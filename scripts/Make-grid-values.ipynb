{
 "cells": [
  {
   "cell_type": "code",
   "execution_count": 1,
   "id": "6ed3a085",
   "metadata": {},
   "outputs": [],
   "source": [
    "import pathlib\n",
    "import astropy.table as at\n",
    "import ezpadova as ez\n",
    "import matplotlib as mpl\n",
    "import matplotlib.pyplot as plt\n",
    "import numpy as np\n",
    "from scipy.spatial import KDTree\n",
    "from scipy.interpolate import InterpolatedUnivariateSpline\n",
    "\n",
    "%matplotlib inline"
   ]
  },
  {
   "cell_type": "code",
   "execution_count": 2,
   "id": "8d843051",
   "metadata": {},
   "outputs": [],
   "source": [
    "data_path = pathlib.Path(\"../data\")\n",
    "data_path.mkdir(exist_ok=True)"
   ]
  },
  {
   "cell_type": "code",
   "execution_count": 3,
   "id": "6813799b",
   "metadata": {},
   "outputs": [
    {
     "data": {
      "text/plain": [
       "528"
      ]
     },
     "execution_count": 3,
     "metadata": {},
     "output_type": "execute_result"
    }
   ],
   "source": [
    "teff_grid = np.round(np.arange(4800, 5500 + 1e-3, 100), 0)\n",
    "logg_grid = np.round(np.arange(2, 3.0 + 1e-3, 0.2), 1)\n",
    "mh_grid = np.round(np.arange(-0.5, 0.5 + 1e-3, 0.1), 1)\n",
    "\n",
    "arrs = np.meshgrid(teff_grid, logg_grid, mh_grid, indexing=\"ij\")\n",
    "arrs[0].size"
   ]
  },
  {
   "cell_type": "code",
   "execution_count": 4,
   "id": "7578dd34",
   "metadata": {},
   "outputs": [],
   "source": [
    "np.savez(data_path / \"teff_logg_mh_grids.npz\", teff_grid, logg_grid, mh_grid)"
   ]
  },
  {
   "cell_type": "code",
   "execution_count": 5,
   "id": "26738a62",
   "metadata": {},
   "outputs": [],
   "source": [
    "filename = data_path / \"grid_params.csv\"\n",
    "\n",
    "tbl = at.Table()\n",
    "tbl[\"Teff\"] = arrs[0].flatten()\n",
    "tbl[\"logg\"] = arrs[1].flatten()\n",
    "tbl[\"m_H\"] = arrs[2].flatten()\n",
    "tbl[\"a_H\"] = 0.2\n",
    "tbl.write(filename, overwrite=True)"
   ]
  },
  {
   "cell_type": "code",
   "execution_count": 6,
   "id": "c9e88f95",
   "metadata": {},
   "outputs": [
    {
     "name": "stdout",
     "output_type": "stream",
     "text": [
      "Now run:\n",
      "\t julia scripts/make_korg_grid.jl data/grid_params.csv\n"
     ]
    }
   ],
   "source": [
    "print(f\"Now run:\\n\\t julia scripts/make_korg_grid.jl data/{filename.name}\")"
   ]
  },
  {
   "cell_type": "markdown",
   "id": "1303e2aa",
   "metadata": {},
   "source": [
    "# Synthesize the one test case, off the main grid:"
   ]
  },
  {
   "cell_type": "code",
   "execution_count": 11,
   "id": "124992f7",
   "metadata": {},
   "outputs": [],
   "source": [
    "rng = np.random.default_rng(42)\n",
    "teff = np.mean(teff_grid) + rng.uniform(0, np.diff(teff_grid)[0])\n",
    "logg = np.mean(logg_grid) + rng.uniform(0, np.diff(logg_grid)[0])\n",
    "mh = np.mean(mh_grid) + rng.uniform(0, np.diff(mh_grid)[0])\n",
    "\n",
    "true_params = np.array([[teff, logg, mh], [teff_grid[2], logg_grid[2], mh_grid[2]]])\n",
    "np.save(data_path / \"true_params.npy\", true_params)"
   ]
  },
  {
   "cell_type": "code",
   "execution_count": 9,
   "id": "af74c760",
   "metadata": {},
   "outputs": [],
   "source": [
    "test_filename = data_path / \"test_params.csv\"\n",
    "\n",
    "tbl = at.Table()\n",
    "tbl[\"Teff\"] = np.array([teff, teff_grid[2]])\n",
    "tbl[\"logg\"] = [logg, logg_grid[2]]\n",
    "tbl[\"m_H\"] = [mh, mh_grid[2]]\n",
    "tbl[\"a_H\"] = 0.2\n",
    "tbl.write(test_filename, overwrite=True)"
   ]
  },
  {
   "cell_type": "code",
   "execution_count": 10,
   "id": "59b528e4",
   "metadata": {},
   "outputs": [
    {
     "name": "stdout",
     "output_type": "stream",
     "text": [
      "Now run:\n",
      "\t julia scripts/make_korg_grid.jl data/test_params.csv\n"
     ]
    }
   ],
   "source": [
    "print(f\"Now run:\\n\\t julia scripts/make_korg_grid.jl data/{test_filename.name}\")"
   ]
  },
  {
   "cell_type": "code",
   "execution_count": null,
   "id": "5dd1c863",
   "metadata": {},
   "outputs": [],
   "source": []
  }
 ],
 "metadata": {
  "kernelspec": {
   "display_name": ".venv",
   "language": "python",
   "name": "python3"
  },
  "language_info": {
   "codemirror_mode": {
    "name": "ipython",
    "version": 3
   },
   "file_extension": ".py",
   "mimetype": "text/x-python",
   "name": "python",
   "nbconvert_exporter": "python",
   "pygments_lexer": "ipython3",
   "version": "3.12.7"
  }
 },
 "nbformat": 4,
 "nbformat_minor": 5
}
